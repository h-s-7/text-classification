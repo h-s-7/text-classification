{
 "cells": [
  {
   "cell_type": "code",
   "execution_count": 1,
   "metadata": {},
   "outputs": [
    {
     "name": "stderr",
     "output_type": "stream",
     "text": [
      "[nltk_data] Downloading package stopwords to C:\\Users\\Himanshu\n",
      "[nltk_data]     Surana\\AppData\\Roaming\\nltk_data...\n",
      "[nltk_data]   Package stopwords is already up-to-date!\n"
     ]
    }
   ],
   "source": [
    "import numpy as np\n",
    "import pandas as p\n",
    "#for loading the datatset\n",
    "from sklearn.datasets import fetch_20newsgroups\n",
    "#library for importing stopwords\n",
    "import nltk\n",
    "nltk.download('stopwords')\n",
    "from nltk.corpus import stopwords\n",
    "\n"
   ]
  },
  {
   "cell_type": "code",
   "execution_count": 2,
   "metadata": {},
   "outputs": [],
   "source": [
    "#fetching the data\n",
    "news_articles=fetch_20newsgroups()"
   ]
  },
  {
   "cell_type": "code",
   "execution_count": 3,
   "metadata": {},
   "outputs": [],
   "source": [
    "#loading the data\n",
    "x = news_articles.data\n",
    "y = news_articles.target"
   ]
  },
  {
   "cell_type": "code",
   "execution_count": 5,
   "metadata": {},
   "outputs": [],
   "source": [
    "#removing special characters from the data\n",
    "def remove_special_char(x):\n",
    "    special_char=['1','2','3','4','5','6','7','8','9','0','!','#','@','$','%','^','&','*','(',')',\n",
    "                  '-','_','+','=','{','}','[',']',':',';','\"',\"'\",'<',',','>','.','?','/','~','`',\n",
    "                  '\\n','\\t']\n",
    "    for i in special_char:\n",
    "        x=x.replace(i,' ')\n",
    "    return x"
   ]
  },
  {
   "cell_type": "code",
   "execution_count": 9,
   "metadata": {},
   "outputs": [],
   "source": [
    "#removing the stop words\n",
    "def filter_data(x):\n",
    "    stop_word = set(stopwords.words(\"english\"))\n",
    "    stop_words_list = list(stop_word)\n",
    "    new_x=[]\n",
    "    for i in range(len(x)):\n",
    "        filtered_words=[]\n",
    "        temp=remove_special_char(x[i]).lower()\n",
    "        words = temp.split(\" \")\n",
    "        for j in range(len(words)):\n",
    "            if words[j] not in stop_words_list:\n",
    "                filtered_words.append(words[j])\n",
    "        temp_string = \" \"\n",
    "        for k in filtered_words:\n",
    "            temp_string+= k\n",
    "            temp_string+=\" \"\n",
    "        x[i].replace(x[i],temp_string)\n",
    "        new_x.append(temp_string)            \n",
    "    return new_x     \n",
    "    \n",
    "    \n",
    "    "
   ]
  },
  {
   "cell_type": "code",
   "execution_count": 10,
   "metadata": {},
   "outputs": [],
   "source": [
    "filtered_x=filter_data(x)"
   ]
  },
  {
   "cell_type": "code",
   "execution_count": 57,
   "metadata": {},
   "outputs": [],
   "source": [
    "#creating the dataset\n",
    "#finding all the different words in the data\n",
    "setx=set()\n",
    "list_of_words=[]\n",
    "for i in range(len(filtered_x)):\n",
    "    li=filtered_x[i].split()\n",
    "    for i in li:\n",
    "        list_of_words.append(i)\n",
    "    temp_set=set(li)\n",
    "    setx = setx.union(temp_set)\n",
    "\n"
   ]
  },
  {
   "cell_type": "code",
   "execution_count": 59,
   "metadata": {},
   "outputs": [
    {
     "data": {
      "text/plain": [
       "2162623"
      ]
     },
     "execution_count": 59,
     "metadata": {},
     "output_type": "execute_result"
    }
   ],
   "source": [
    "len(list_of_words)"
   ]
  },
  {
   "cell_type": "code",
   "execution_count": 60,
   "metadata": {},
   "outputs": [
    {
     "data": {
      "text/plain": [
       "91044"
      ]
     },
     "execution_count": 60,
     "metadata": {},
     "output_type": "execute_result"
    }
   ],
   "source": [
    "len(setx)"
   ]
  },
  {
   "cell_type": "code",
   "execution_count": 79,
   "metadata": {},
   "outputs": [],
   "source": [
    "set_of_words=list(setx)\n",
    "#finding the frequency of each word in the data sets \n",
    "frequency={}\n",
    "for i in set_of_words:\n",
    "    frequency[i]=list_of_words.count(i)\n",
    "\n",
    "        \n",
    "    "
   ]
  },
  {
   "cell_type": "code",
   "execution_count": 80,
   "metadata": {},
   "outputs": [
    {
     "data": {
      "text/plain": [
       "91044"
      ]
     },
     "execution_count": 80,
     "metadata": {},
     "output_type": "execute_result"
    }
   ],
   "source": [
    "len(frequency)"
   ]
  },
  {
   "cell_type": "code",
   "execution_count": 87,
   "metadata": {},
   "outputs": [],
   "source": [
    "copy_frequency1=frequency.copy()"
   ]
  },
  {
   "cell_type": "code",
   "execution_count": 102,
   "metadata": {},
   "outputs": [
    {
     "name": "stdout",
     "output_type": "stream",
     "text": [
      "89064\n"
     ]
    }
   ],
   "source": [
    "remaining_keys=copy_frequency1.keys()\n",
    "low_freq_keys=[]\n",
    "for i in remaining_keys:\n",
    "    if copy_frequency1[i]<175:\n",
    "        low_freq_keys.append(i)\n",
    "print(len(low_freq_keys))"
   ]
  },
  {
   "cell_type": "code",
   "execution_count": 103,
   "metadata": {},
   "outputs": [
    {
     "name": "stdout",
     "output_type": "stream",
     "text": [
      "{'short': 519, 'heart': 311, 'gay': 234, 'q\\\\': 483, 'xterm': 249, 'shown': 190, 'km': 248, 'security': 663, 'adobe': 181, 'ins': 231, 'cars': 474, 'old': 1214, 'stratus': 325, 'response': 408, 'greg': 251, 'independent': 237, 'flames': 205, 'dealer': 238, 'seem': 840, 'possibility': 192, 'cal': 204, 'local': 834, 'quickly': 201, 'radio': 525, 'piece': 195, 'floppy': 295, 'analysis': 279, 'goal': 362, 'compared': 215, 'supposed': 323, 'takes': 361, 'z': 4100, 'hey': 261, 'never': 1806, 'theory': 400, 'jews': 868, 'cause': 651, 'compatible': 204, 'approach': 291, 'correct': 574, 'along': 433, 'realize': 262, 'friend': 457, 'started': 624, 'played': 271, 'means': 940, 'game': 1192, 'despite': 175, 'march': 267, 'facts': 229, 'science': 1394, 'shot': 341, 'communications': 516, 'authority': 315, 'sciences': 211, 'eff': 229, 'existence': 376, 'rlk': 237, 'j': 3845, 'moment': 202, 'virginia': 569, 'supply': 300, 'makes': 826, 'using': 1899, 'apr': 3954, 'brought': 297, 'mit': 999, 'faster': 328, 'popular': 222, 'bush': 178, 'ever': 943, 'bunch': 211, 'brown': 273, 'manual': 319, 'string': 184, 'ten': 299, 'six': 243, 'argument': 576, 'processing': 212, 'town': 219, 'kent': 259, 'illinois': 328, 'international': 429, 'henry': 320, 'hd': 264, 'ray': 349, 'decided': 314, 'request': 481, 'moving': 218, 'voice': 434, 'perhaps': 784, 'cco': 195, 'jpl': 300, 'calling': 223, 'stephen': 281, 'carry': 355, 'purdue': 328, 'scott': 467, 'york': 562, 'highly': 238, 'author': 351, 'goes': 528, 'friends': 272, 'patrick': 204, 'ex': 318, 'wants': 381, 'citizens': 319, 'replace': 186, 'ide': 411, 'tape': 400, 'member': 301, 'ie': 277, 'article': 7438, 'events': 311, 'file': 2014, 'aware': 218, 'higher': 384, 'firearms': 333, 'whose': 300, 'either': 1192, 'fight': 204, 'un': 207, 'christian': 940, '|': 20606, 'services': 593, 'seeing': 220, 'panel': 183, 'org': 1417, 'per': 573, 'unix': 774, 'among': 507, 'middle': 280, 'proposed': 205, 'mp': 185, 'mu': 272, 'mw': 303, 'cannot': 837, 'expect': 424, 'race': 237, 'ncsu': 238, 'video': 690, 'money': 850, 'sale': 760, 'recall': 252, 'domain': 203, 'many': 2945, 'sort': 584, 'happened': 505, 'mark': 1055, 'equal': 177, 'pts': 260, 'notice': 219, 'des': 346, 'tried': 609, 'support': 1180, 'writes': 7844, 'meg': 231, 'offers': 206, 'hold': 407, 'coverage': 193, 'code': 964, 'useful': 335, 'organization': 11233, 'announced': 177, 'role': 208, 'fit': 255, 'sold': 244, 'discussion': 499, 'feel': 681, 'search': 253, 'looked': 344, 'washington': 897, 'turned': 252, 'compare': 192, 'muslim': 278, 'charge': 211, 'image': 829, 'pretty': 752, 'islam': 295, 'umich': 201, 'blue': 331, 'rate': 482, 'si': 228, 'cryptography': 222, 'boulder': 198, 'mot': 296, 'arms': 353, 'back': 2033, 'yes': 1038, 'costs': 265, 'potential': 198, 'title': 353, 'mv': 295, 'pay': 562, 'name': 1396, 'cambridge': 255, 'types': 253, 'default': 213, 'francisco': 190, 'justice': 239, 'service': 649, 'bnr': 333, 'heaven': 241, 'proper': 242, 'shipping': 303, 'mn': 176, 'banks': 339, 'percent': 176, 'absolute': 220, 'angeles': 284, 'economic': 205, 'natural': 297, 'weapon': 216, 'martin': 183, 'encryption': 860, 'effort': 249, 'require': 324, 'determine': 208, 'personal': 465, 'cmu': 648, 'win': 1015, 'recently': 445, 'colors': 235, 'size': 629, 'changed': 301, 'necessarily': 322, 'rather': 1136, 'years': 1921, 'bob': 538, 'certain': 593, 'basic': 359, 'claims': 322, 'move': 428, 'opinions': 896, 'miles': 268, 'x': 12234, 'w': 8626, 'week': 534, 'different': 1295, 'across': 285, 'easy': 504, 'somewhat': 185, 'yesterday': 181, 'simple': 544, 'worse': 318, 'disagree': 179, 'great': 1280, 'tar': 257, 'automatic': 179, 'tin': 522, 'damn': 175, 'billion': 253, 'ez': 178, 'print': 224, 'ad': 306, 'decision': 236, 'really': 2180, 'driving': 277, 'bring': 301, 'gone': 289, 'std': 201, 'include': 656, 'sys': 253, 'okay': 207, 'purchase': 214, 'choose': 250, 'somehow': 183, 'seen': 959, 'rsa': 177, 'president': 860, 'pa': 475, 'windows': 1933, 'thing': 1534, 'body': 545, 'little': 1471, 'hr': 207, 'smith': 509, 'thanks': 1853, 'ti': 281, 'german': 228, 'marc': 254, 'univ': 403, 'five': 317, 'export': 274, 'found': 1030, 'worth': 441, 'heard': 944, 'alive': 195, 'jack': 241, 'compound': 179, 'fall': 271, 'child': 368, 'keys': 611, 'man': 1100, 'full': 769, 'playing': 270, 'upon': 454, 'neutral': 181, 'chips': 340, 'please': 2199, 'u': 7912, 'responsibility': 219, 'almost': 682, 'understand': 664, 'anywhere': 185, 'aa': 237, 'may': 3312, 'paid': 224, 'politics': 190, 'atheists': 394, 'slow': 247, 'within': 579, 'mean': 1113, 'review': 227, 'keep': 1063, 'atheism': 335, 'tm': 785, 'james': 602, 'light': 533, 'happens': 302, 'area': 678, 'beginning': 257, 'boston': 358, 'criminal': 216, 'project': 447, 'alan': 233, 'public': 1426, 'de': 1238, 'young': 526, 'mass': 317, 'according': 433, 'buffalo': 327, 'uxa': 183, 'program': 1717, 'tx': 286, 'appreciate': 288, 'creation': 188, 'phil': 255, 'giz': 447, 'laws': 508, 'energy': 207, 'allows': 233, 'protection': 259, 'behind': 439, 'could': 3511, 'break': 331, 'jesus': 1242, 'edge': 200, 'series': 452, 'sounds': 345, 'sc': 320, 'clinton': 645, 'greatly': 239, 'took': 586, 'available': 1579, 'food': 437, 'start': 888, 'group': 1307, 'mission': 237, 'count': 271, 'digital': 377, 'colorado': 676, 'format': 452, 'comes': 681, 'calls': 274, 'becomes': 185, 'rpi': 203, 'mt': 277, 'meeting': 191, 'mind': 649, 'vax': 358, 'bc': 339, 'gt': 247, 'gmt': 541, 'couple': 588, 'added': 265, 'hours': 290, 'things': 1795, 'drugs': 318, 'spent': 209, 'anonymous': 474, 'hands': 266, 'brian': 536, 'green': 288, 'cx': 667, 'dollars': 175, 'turn': 519, 'major': 578, 'imagine': 319, 'let': 1594, 'legal': 445, 'appears': 334, 'unc': 217, 'tq': 260, 'mil': 388, 'limited': 336, 'christians': 682, 'double': 288, 'genocide': 278, 'called': 1154, 'late': 296, 'record': 378, 'livesey': 192, 'wait': 306, 'connection': 225, 'military': 489, 'bxn': 249, 'sw': 252, 'completely': 365, 'devices': 350, 'fr': 176, 'picture': 285, 'defense': 451, 'jason': 265, 'letter': 308, 'complete': 361, 'mf': 247, 'motorcycle': 183, 'georgia': 297, 'killed': 535, 'gun': 1178, 'command': 369, 'input': 365, 'site': 421, 'nl': 436, 'telephone': 216, 'netcom': 1017, 'keeping': 202, 'expansion': 205, 'hear': 490, 'turkish': 748, 'real': 1242, 'east': 476, 'safety': 363, 'modern': 275, 'became': 185, 'individuals': 229, 'oz': 270, '\\\\t': 192, 'question': 1870, 'visual': 229, 'value': 520, 'gave': 336, 'see': 3064, 'exist': 513, 'mouse': 509, 'riding': 192, 'draft': 185, 'red': 471, 'teams': 375, 'r': 7760, 'failed': 229, 'main': 404, 'knowing': 190, 'craig': 246, 'usa': 1753, 'keith': 547, 'something': 2249, 'required': 368, 'joe': 332, 'thus': 522, 'bits': 346, 'exactly': 552, 'app': 180, 'tim': 367, 'division': 615, 'chris': 408, 'jewish': 598, 'wings': 233, 'microsoft': 264, 'getting': 889, 'america': 376, 'sign': 199, 'text': 560, 'taking': 436, 'ucs': 250, 'pt': 201, 'conclusion': 228, 'respect': 248, 'interest': 378, 'writing': 271, 'previous': 421, 'proof': 240, 'upenn': 223, 'newsgroups': 190, 'pgp': 268, 'thinking': 463, 'reasons': 362, 'enough': 1262, 'information': 1981, 'multi': 246, 'current': 851, 'universe': 271, 'dave': 562, 'still': 2024, 'period': 551, '\\\\x': 291, 'client': 196, 'policy': 457, 'political': 507, 'minor': 191, 'armenian': 717, 'princeton': 205, 'roger': 315, 'nj': 324, 'world': 2722, 'mountain': 180, 'software': 1619, 'co': 840, 'pick': 323, 'berkeley': 567, 'fear': 206, 'book': 865, 'human': 868, 'create': 387, 'trial': 245, 'etc': 1674, 'frank': 446, 'future': 479, 'else': 1085, 'ql': 330, 'sources': 421, 'philadelphia': 192, 'since': 2070, 'geb': 261, 'clearly': 387, 'speaking': 181, 'towards': 199, 'bh': 264, 'month': 301, 'chicago': 458, 'causes': 201, 'kn': 252, 'increase': 242, 'instead': 639, 'easily': 335, 'worked': 278, 'century': 188, 'definition': 262, 'ne': 198, 'pass': 281, 'koresh': 296, 'following': 982, 'stand': 293, 'rest': 489, 'server': 759, 'help': 1926, 'attacks': 246, 'call': 1095, 'muslims': 236, 'bottom': 183, 'uunet': 414, 'considered': 481, 'gotten': 182, 'radar': 240, 'meet': 198, 'posted': 524, 'card': 1164, 'place': 981, 'purpose': 428, 'warning': 219, 'somebody': 314, 'night': 494, 'actions': 282, 'understanding': 271, 'population': 397, 'hand': 764, 'launch': 361, 'sites': 255, 'um': 512, 'usenet': 517, 'simply': 669, 'rocket': 247, 'foreign': 185, 'lk': 383, 'yeah': 283, 'pages': 203, 'batf': 246, 'share': 226, 'draw': 238, 'associated': 180, 'expected': 243, 'wanted': 669, 'corporation': 492, 'pm': 261, 'media': 442, 'mk': 300, 'league': 498, 'eng': 383, 'check': 702, 'weapons': 462, 'thomas': 415, 'doctor': 269, 'sci': 502, 'quadra': 198, 'robert': 766, 'du': 270, 'committed': 189, 'express': 220, 'car': 1327, 'fault': 198, 'northern': 178, 'books': 488, 'truly': 177, 'thread': 212, 'government': 1814, 'phone': 926, 'ee': 228, 'library': 361, 'ah': 420, 'zip': 181, 'try': 1248, 'owner': 189, 'players': 599, 'another': 1705, 'technical': 432, 'waco': 207, 'message': 1051, 'setting': 221, 'ho': 182, 'define': 282, 'digex': 347, 'months': 420, 'multiple': 272, 'spot': 222, 'lab': 301, 'address': 810, 'mentioned': 419, 'em': 264, 'atheist': 223, 'nec': 306, 'surface': 224, 'tools': 280, 'immediately': 187, 'waiting': 193, 'examples': 191, 'ground': 470, 'standards': 254, 'stick': 198, 'management': 240, 'soviet': 312, 'secure': 339, 'monitor': 497, 'po': 362, 'shall': 382, 'dod': 560, 'face': 485, 'flight': 246, 'around': 1402, 'foundation': 191, 'note': 905, 'avoid': 335, 'left': 983, 'christianity': 384, 'style': 214, 'second': 1219, 'oh': 720, 'level': 589, 'test': 538, 'part': 1547, 'ask': 826, 'big': 926, 'opinion': 518, 'concerned': 226, 'former': 268, 'os': 642, 'figure': 365, 'meaning': 300, 'cross': 280, 'application': 568, 'l': 4927, 'nothing': 1136, 'act': 461, 'led': 250, 'sure': 1700, 'laboratory': 325, 'ml': 181, 'wayne': 222, 'near': 434, 'widget': 413, 'followed': 182, 'bytes': 187, 'education': 333, 'average': 369, 'caltech': 451, 'agency': 215, 'total': 427, 'responsible': 269, 'inc': 1172, 'cover': 409, 'central': 244, 'reply': 2463, 'high': 1255, 'caused': 244, 'besides': 221, 'network': 602, 'algorithm': 402, 'cities': 182, 'bu': 250, 'electronic': 327, 'much': 2878, 'solution': 340, 'requires': 254, 'time': 4100, 'ax': 62517, 'expensive': 249, 'two': 3020, 'interesting': 491, 'going': 2016, 'attack': 350, 'standard': 860, 'pl': 1529, 'ww': 343, 'data': 1649, 'weeks': 394, 'gordon': 368, 'beat': 223, 'bruce': 206, 'israeli': 685, 'evil': 308, 'dan': 383, 'acs': 482, 'indiana': 340, 'says': 1226, 'published': 291, 'package': 619, 'ago': 795, 'ability': 271, 'jpeg': 290, 'south': 355, 'statements': 181, 'written': 525, 'army': 320, 'ac': 1288, 'business': 525, 'amount': 334, 'cornell': 218, 'email': 1134, 'huge': 179, 'hell': 637, 'leafs': 210, 'must': 1837, 'action': 422, 'development': 393, 'ahead': 191, 'force': 511, 'mode': 531, 'hi': 675, 'department': 804, 'controller': 439, 'activities': 217, 'msg': 333, 'various': 414, 'lack': 285, 'vehicle': 233, 'sense': 550, 'secret': 398, 'taken': 526, 'products': 334, 'field': 337, 'versions': 219, 'satellite': 252, 'turks': 343, 'decide': 210, 'results': 393, 'fax': 807, 'stop': 538, 'v': 6977, 'users': 470, 'considering': 243, 'begin': 236, 'documentation': 178, 'worst': 186, 'included': 389, 'organizations': 182, 'explain': 425, 'recent': 305, 'seattle': 233, 'ns': 308, 'people': 5976, 'asked': 561, 'sunday': 217, 'fred': 228, 'george': 373, 'third': 529, 'believe': 2029, 'said': 2454, 'missed': 176, 'militia': 243, 'particular': 501, 'season': 624, 'make': 2892, 'thank': 365, 'specifically': 226, 'capable': 188, 'master': 250, 'troops': 177, 'hall': 261, 'pat': 392, 'trust': 297, 'hole': 183, 'rm': 191, 'ra': 229, 'mg': 243, 'steven': 202, 'murder': 265, 'internal': 327, 'property': 207, 'ab': 288, 'soldiers': 262, 'exact': 195, 'truth': 640, 's\\\\': 252, 'crime': 472, 'dx': 317, 'mx': 216, 'ai': 387, 'english': 199, 'nice': 571, 'happy': 317, 'longer': 468, 'soul': 191, 'eye': 200, 'status': 213, 'soon': 442, 'logic': 286, 'suggest': 340, 'jose': 210, 'issue': 778, 'ch': 351, 'physics': 283, 'live': 728, 'cpu': 230, 'via': 567, 'resources': 240, 'safe': 259, 'significant': 218, 'moon': 344, 'supported': 211, 'lead': 281, 'women': 524, 'united': 441, 'existing': 208, 'majority': 271, 'character': 208, 'bear': 282, 'johnson': 203, 'instance': 179, 'mi': 361, 'gc': 197, 'nearly': 176, 'fairly': 259, 'rick': 187, 'bus': 525, 'save': 405, 'motherboard': 231, 'simms': 245, 'way': 3002, 'info': 1111, 'miller': 188, 'statement': 474, 'matt': 184, 'anyone': 2468, 'work': 2373, 'store': 183, 'heavy': 207, 'eat': 182, 'morality': 366, 'enforcement': 327, '||': 399, 'sent': 410, 'probably': 1375, 'bible': 779, 'pub': 580, 'cramer': 236, 'states': 744, 'jeff': 277, 'applied': 192, 'ripem': 177, 'prism': 194, 'mr': 1267, 'nazi': 235, 'pro': 396, 'douglas': 210, 'quote': 264, 'possibly': 284, 'db': 713, 'port': 344, 'putting': 234, 'others': 998, 'bad': 1052, 'william': 227, 'large': 815, 'personally': 260, 'school': 631, 'resource': 220, 'fixed': 177, 'religion': 625, 'held': 289, 'guy': 519, 'commercial': 368, 'arab': 335, 'training': 224, 'method': 304, 'udel': 262, 'except': 523, 'mother': 270, 'come': 1463, 'someone': 1563, 'entire': 315, 'sometimes': 452, 'announcement': 184, 'alone': 313, 'lost': 480, 'messages': 213, 'southern': 184, 'nation': 185, 'die': 377, 'memory': 769, 'even': 3279, 'tax': 366, 'built': 488, 'words': 549, 'date': 496, 'trying': 967, 'talk': 599, 'living': 378, 'issues': 341, 'mac': 935, 'report': 381, 'would': 8909, 'rom': 333, 'notes': 183, 'stuff': 747, 'congress': 392, 'cards': 404, 'fun': 192, 'screen': 587, 'loss': 238, 'guest': 199, 'four': 493, 'known': 627, 'informatik': 202, 'side': 729, 'areas': 283, 'drivers': 537, 'environment': 272, 'mon': 242, 'able': 1022, 'rights': 770, 'administration': 402, 'cup': 404, 'gives': 333, 'amendment': 304, 'reported': 277, 'therefore': 487, 'matter': 694, 'often': 682, 'isa': 225, 'drug': 310, 'holy': 247, 'fonts': 215, 'older': 177, 'table': 230, 'king': 366, 'usually': 555, 'claim': 642, 'encrypted': 201, 'box': 697, 'product': 382, 'protect': 356, 'community': 324, 'power': 1517, 'son': 344, 'needed': 530, 'background': 212, 'court': 420, 'offer': 450, 'scripture': 196, 'basis': 317, 'doubt': 385, 'provides': 236, 'california': 638, 'reason': 1039, 'ecn': 216, 'uk': 1520, 'faith': 582, 'team': 1171, 'allowed': 316, 'everything': 717, 'handle': 253, 'half': 417, 'kept': 242, 'nt': 281, 'original': 710, 'cold': 212, 'false': 267, 'texas': 472, 'block': 283, 'source': 874, 'armenia': 387, 'fair': 230, 'jr': 220, 'los': 328, 'poor': 273, 'lc': 233, 'proposal': 242, 'braves': 181, 'q': 8084, 'tel': 256, 'although': 640, 'class': 367, 'came': 767, 'solid': 185, 'directly': 324, 'machine': 698, 'owners': 219, 'volume': 264, 'including': 682, 'auto': 265, 'nd': 391, 'party': 310, 'signal': 230, 'follows': 192, 'disk': 831, 'summary': 597, 'addition': 290, 'sexual': 210, 'drop': 189, 'ride': 262, 'somewhere': 277, 'questions': 919, 'freedom': 355, 'reports': 293, 'toronto': 708, 'contact': 619, 'closed': 273, 'serdar': 265, 'industry': 237, 'learn': 329, 'louis': 215, 'cso': 451, 'points': 543, 'sq': 181, 'tend': 193, 'van': 317, 'sandvik': 278, 'works': 767, 'sun': 1278, 'long': 1590, 'originator': 303, 'guess': 624, 'story': 391, 'though': 1182, 'ram': 442, 'institute': 790, 'normally': 176, 'medical': 416, 'scx': 207, 'true': 1382, 'take': 1877, 'mary': 205, 'prevent': 261, 'gas': 375, 'everyone': 700, 'room': 314, 'installed': 311, 'passed': 220, 'given': 898, 'also': 4307, 'members': 450, 'nasa': 1335, 'goals': 221, 'star': 224, 'got': 1633, 'later': 663, 'replaced': 181, 'apparently': 310, 'reference': 411, 'developed': 231, 'contrib': 178, 'effect': 465, 'talking': 572, 'speed': 800, 'normal': 347, 'us': 3403, 'meant': 232, 'names': 298, 'driver': 603, 'stated': 292, 'eyes': 202, 'communication': 221, 'door': 267, 'copy': 539, 'apply': 285, 'chip': 1119, 'pc': 951, 'tech': 224, 'deleted': 378, 'knew': 306, 'performance': 423, 'respond': 203, 'look': 1517, 'option': 264, 'catholic': 211, 'bs': 218, 'research': 1332, 'religious': 445, 'fbi': 444, 'otherwise': 402, 'wrong': 1072, 'risk': 239, 'died': 284, 'head': 534, 'lee': 275, 'sin': 292, 'person': 1041, 'armed': 177, 'answers': 345, 'one': 9014, 'buf': 203, 'knows': 401, 'land': 427, 'finally': 341, 'solar': 189, 'knowledge': 420, 'csd': 311, 'less': 989, 'treatment': 223, 'levels': 190, 'nsa': 293, 'lives': 295, 'made': 1624, 'know': 5134, 'choice': 344, 'british': 241, 'turkey': 374, 'arizona': 240, 'scsi': 980, 'strong': 479, 'earth': 638, 'student': 333, 'penalty': 178, 'copies': 192, 'love': 656, 'cc': 1414, 'every': 1378, 'ways': 375, 'tell': 1302, 'forget': 295, 'wiretap': 177, 'buying': 244, 'br': 227, 'frequently': 197, 'object': 287, 'corp': 427, 'straight': 241, 'close': 415, 'lewis': 180, 'nz': 233, 'wt': 262, 'xt': 317, 'shell': 222, 'especially': 545, 'device': 395, 'prove': 289, 'center': 1162, 'poster': 196, 'ron': 321, 'moved': 180, 'et': 296, 'engine': 378, 'montreal': 228, 'design': 422, 'civil': 301, 'latest': 243, 'path': 198, 'ss': 238, 'lived': 197, 'insurance': 399, 'law': 1564, 'cheap': 347, 'cs': 3109, 'country': 611, 'gets': 481, 'physical': 266, 'system': 2813, 'actual': 231, 'committee': 233, 'fast': 599, 'tl': 200, 'already': 848, 'pain': 253, 'motorola': 237, 'behavior': 194, 'college': 628, 'apple': 857, 'three': 1002, 'accepted': 197, 'trade': 314, 'b': 7507, 'math': 426, 'bought': 341, 'difficult': 324, 'ok': 684, 'currently': 408, 'alaska': 226, 'includes': 443, 'setup': 175, 'western': 522, 'told': 776, 'church': 639, 'p\\\\': 816, 'bank': 189, 'absolutely': 223, 'white': 687, 'display': 661, 'dangerous': 252, 'winning': 190, 'early': 476, 'quite': 929, 'newsreader': 597, 'general': 978, 'andy': 290, 'evidence': 816, 'rs': 209, 'lots': 340, 'forces': 191, 'event': 326, 'groups': 546, 'life': 1234, 'wide': 288, 'list': 1281, 'give': 1383, 'effective': 282, 'cleveland': 498, 'va': 251, 'ones': 468, 'random': 236, 'use': 4186, 'guys': 275, 'daniel': 219, 'wife': 290, 'generally': 326, 'quick': 239, 'mb': 1106, 'color': 732, 'missing': 198, 'lower': 291, 'plus': 457, 'defined': 212, 'front': 474, 'computer': 2141, 'cis': 235, 'model': 488, 'privacy': 451, 'speak': 381, 'rose': 249, 'context': 295, 'bitnet': 438, 'properly': 201, 'illegal': 262, 'death': 602, 'contains': 272, 'faq': 692, 'thought': 1003, 'subject': 12263, 'sales': 198, 'cache': 182, 'ps': 317, 'mhz': 457, 'newsgroup': 373, 'anti': 503, 'arabs': 206, 'nuclear': 286, 'ncr': 219, 'pin': 287, 'iastate': 242, 'flyers': 192, 'views': 314, 'germany': 399, 'million': 421, 'totally': 236, 'released': 194, 'university': 5586, 'word': 808, 'street': 314, 'easier': 210, 'least': 1307, 'european': 223, 'scientific': 361, 'armenians': 624, 'trouble': 288, 'watch': 296, 'prefer': 189, 'single': 654, 'extra': 320, 'misc': 271, 'patients': 204, 'stanford': 506, 'direct': 241, 'allen': 205, 'send': 1072, 'numbers': 586, 'exists': 373, 'ted': 236, 'biblical': 187, 'position': 511, 'andrew': 818, 'cj': 200, 'tu': 360, 'il': 280, 'bike': 569, 'r\\\\o': 414, 'giving': 302, 'access': 1383, 'joseph': 272, 'atlanta': 183, 'weight': 224, 'conference': 301, 'computers': 189, 'stephanopoulos': 348, 'reserve': 254, 'f': 7919, 'austin': 421, 'online': 279, 'sell': 455, 'important': 712, 'machines': 408, 'provide': 622, 'europe': 259, 'go': 2506, 'limit': 199, 'th': 806, 'lib': 243, 'inside': 363, 'games': 817, 'folks': 307, 'bit': 1705, 'last': 1866, 'equipment': 296, 'merely': 209, 'ca': 3577, 'models': 239, 'terms': 301, 'k': 4981, 'small': 805, 'archive': 321, 'clock': 340, 'interface': 389, 'traffic': 259, 'brain': 220, 'serve': 191, 'forward': 215, 'born': 225, 'vms': 304, 'low': 649, 'study': 483, 'disks': 236, 'coming': 445, 'april': 754, 'return': 516, 'advantage': 194, 'urbana': 192, 'find': 1896, 'nobody': 256, 'acts': 230, 'switch': 288, 'constitution': 256, 'harvard': 359, 'sl': 311, 'suppose': 249, 'looks': 453, 'course': 1311, 'col': 218, 'expressed': 241, 'better': 1795, 'columbia': 570, 'wa': 337, 'space': 1859, 'length': 175, 'situation': 474, 'jim': 791, 'toward': 182, 'dc': 352, 'load': 188, 'drives': 489, 'end': 1205, 'build': 517, 'agencies': 231, 'neither': 308, 'anyway': 629, 'together': 433, 'articles': 262, 'round': 269, 'press': 556, 'self': 533, 'unit': 364, 'larry': 245, 'houston': 190, 'lot': 1245, 'however': 1431, 'killing': 261, 'countries': 263, 'cancer': 175, 'hz': 410, 'wm': 520, 'think': 4581, 'upgrade': 212, 'making': 611, 'convert': 220, 'distribution': 2767, 'asking': 373, 'postings': 220, 'yet': 943, 'lord': 307, 'serial': 393, 'show': 744, 'australia': 273, 'based': 1055, 'consider': 627, 'city': 618, 'used': 2458, 'home': 935, 'run': 1268, 'mm': 249, 'water': 458, 'doug': 334, 'applications': 364, 'islamic': 247, 'mo': 187, 'steve': 904, 'wondering': 305, 'park': 226, 'noticed': 209, 'resolution': 202, 'kids': 235, 'family': 387, 'ford': 208, 'jobs': 272, 'fnal': 177, 'drive': 1629, 'problem': 2231, 'order': 1046, 'set': 1307, 'chz': 270, 'fine': 519, 'art': 251, 'mcgill': 278, 'escrow': 360, 'audio': 234, 'shuttle': 256, 'mike': 762, 'right': 2742, 'gary': 367, 'willing': 371, 'stream': 197, 'island': 185, 'produce': 232, 'cwru': 549, 'ibm': 1013, 'description': 197, 'runs': 502, 'san': 607, 'first': 2976, 'comments': 430, 'starting': 235, 'might': 1758, 'difference': 591, 'basically': 274, 'escape': 185, 'chi': 188, 'practice': 229, 'ed': 601, 'designed': 340, 'paper': 326, 'described': 238, 'interested': 747, 'rec': 281, 'children': 780, 'several': 966, 'buy': 757, 'unless': 615, 'ftp': 861, 'ei': 752, 'view': 577, 'uchicago': 266, 'fire': 493, 'bill': 978, 'alternative': 183, 'details': 378, 'mc': 348, 'possible': 1201, 'rules': 415, 'features': 237, 'dos': 1030, 'ice': 216, 'hardware': 593, 'indeed': 341, 'null': 216, 'wrote': 901, 'pp': 339, 'sea': 175, 'accept': 443, 'separate': 218, 'north': 425, 'navy': 282, 'range': 287, 'typical': 203, 'received': 359, 'anybody': 634, 'guns': 563, 'thousands': 209, 'n': 4987, 'david': 1688, 'ck': 257, 'lunar': 244, 'war': 723, 'mail': 2064, 'saying': 729, 'ohio': 635, 'clipper': 793, 'type': 750, 'fi': 456, 'reasonable': 331, 'running': 774, 'telling': 178, 'eventually': 183, 'disease': 269, 'att': 543, 'rangers': 205, 'agree': 691, 'version': 1465, 'ontario': 200, 'club': 232, 'ottawa': 189, 'peace': 444, 'admit': 192, 'air': 520, 'function': 353, 'luck': 215, 'experience': 556, 'eric': 395, 'post': 1194, 'cb': 425, 'like': 5855, 'looking': 1014, 'get': 4996, 'manager': 475, 'definitely': 185, 'particularly': 252, 'bmw': 229, 'specific': 449, 'final': 381, 'canada': 723, 'assuming': 245, 'peter': 497, 'perfect': 277, 'effects': 214, 'canadian': 177, 'company': 597, 'individual': 355, 'computing': 402, 'technology': 1166, 'stats': 193, 'slightly': 178, 'step': 244, 'god': 2995, 'al': 623, 'seems': 1300, 'everybody': 222, 'g': 7943, 'differences': 175, 'base': 356, 'rob': 255, 'sas': 209, 'sex': 293, 'tg': 187, 'mine': 507, 'wish': 341, 'maybe': 1021, 'install': 187, 'se': 599, 'greater': 205, 'dale': 225, 'summer': 213, 'bhj': 483, 'intelligence': 183, 'values': 333, 'positive': 183, 'semi': 197, 'internet': 1119, 'likely': 576, 'spirit': 235, 'dr': 437, 'write': 638, 'uiuc': 747, 'quality': 398, 'changing': 183, 'modem': 352, 'anything': 1406, 'dept': 652, 'russia': 211, 'age': 318, 'baseball': 455, 'uses': 528, 'document': 192, 'beyond': 264, 'optilink': 217, 'na': 614, 'matthew': 318, 'content': 177, 'tony': 245, 'claimed': 194, 'printer': 330, 'new': 3984, 'result': 418, 'ideas': 387, 'vs': 741, 'open': 782, 'health': 561, 'none': 390, 'stay': 263, 'systems': 1275, 'uh': 241, 'places': 321, 'medicine': 248, 'social': 258, 'morning': 208, 'chance': 369, 'concept': 204, 'duke': 225, 'shots': 184, 'excellent': 309, 'supports': 265, 'board': 557, 'programming': 255, 'jon': 361, '\\\\\\\\': 180, 'utexas': 414, 'uci': 212, 'ball': 197, 'common': 523, 'music': 177, 'idea': 897, 'gov': 1376, 'cd': 542, 'material': 262, 'always': 992, 'connected': 176, 'disclaimer': 433, 'vga': 288, 'section': 468, 'brad': 257, 'sp': 193, 'portal': 205, 'mq': 296, 'due': 459, 'colostate': 187, 'belief': 333, 'au': 922, 'methods': 184, 'larger': 193, 'whatever': 492, 'intel': 191, 'nhl': 419, 'lose': 201, 'player': 417, 'american': 948, 'uw': 283, 'wonder': 292, 'guide': 183, 'process': 452, 'non': 1129, 'uucp': 946, 'add': 457, 'rates': 229, 'alt': 355, 'grant': 198, 'bell': 290, 'put': 1271, 'circuit': 224, 'beliefs': 224, 'ny': 434, 'japanese': 179, 'richard': 445, 'tom': 445, 'problems': 1100, 'postscript': 221, 'language': 358, 'spend': 217, 'john': 1446, 'went': 699, 'fan': 315, 'orbit': 305, 'appreciated': 401, 'needs': 487, 'changes': 244, 'good': 3759, 'pitt': 567, 'transfer': 306, 'com': 12281, 'nyx': 200, 'office': 542, 'tv': 470, 'attention': 191, 'michael': 860, 'sorry': 541, 'state': 2270, 'gif': 332, 'regular': 274, 'florida': 178, 'road': 452, 'today': 955, 'control': 1013, 'hate': 214, 'israel': 1014, 'saw': 553, 'unfortunately': 319, 'files': 1062, 'blood': 336, 'shows': 270, 'kind': 856, 'nature': 346, 'kill': 472, 'studies': 318, 'su': 189, 'gk': 239, 'operation': 237, 'wire': 272, 'lj': 196, 'motif': 500, 'stupid': 322, 'listen': 190, 'output': 661, 'eternal': 223, 'men': 642, 'dy': 236, 'remote': 211, 'magazine': 252, 'parts': 427, 'adam': 244, 'additional': 215, 'number': 1721, 'fully': 215, 'without': 1680, 'posting': 5507, 'valid': 226, 'btw': 297, 'national': 1010, 'qs': 308, 'magnus': 281, 'hard': 1241, 'assume': 449, 'best': 1388, 'saturn': 223, 'impossible': 229, 'keywords': 966, 'electrical': 230, 'release': 345, 'comment': 281, 'black': 589, 'read': 1712, 'gm': 366, 'done': 1034, 'rule': 325, 'ey': 387, 'federal': 448, 'mention': 314, 'condition': 341, 'e': 6390, 'want': 2522, 'net': 1221, 'isc': 312, 'follow': 375, 'play': 886, 'suspect': 263, 'necessary': 413, 'hope': 742, 'wpi': 195, 'obviously': 326, 'md': 487, 'athena': 220, 'well': 3477, 'reading': 540, 'entry': 478, 'next': 1160, 'qq': 219, 'private': 592, 'official': 285, 'form': 504, 'case': 1679, 'ryan': 269, 'police': 577, 'rutgers': 439, 'engineering': 658, 'intended': 226, 'h': 3986, 'happen': 437, 'humans': 199, 'detroit': 250, 'gateway': 236, 'charles': 294, 'deal': 537, 'year': 2070, 'errors': 254, 'created': 366, 'graphics': 948, 'azerbaijan': 182, 'images': 411, 'arguments': 250, 'rochester': 392, '\\\\': 7011, 'leave': 403, 'hot': 278, 'clear': 530, 'need': 2415, 'actually': 1194, 'cost': 683, 'nntp': 4814, 'p': 6980, 'innocent': 220, 'fact': 1396, 'dog': 195, 'history': 616, 'outside': 390, 'say': 2706, 'become': 512, 'away': 925, 'present': 403, 'keyboard': 350, 'top': 638, 'criminals': 247, 'father': 365, 'argue': 197, 'selling': 213, 'bios': 232, 'entirely': 224, 'uu': 218, 'id': 529, 'serious': 379, 'regards': 201, 'working': 654, 'seriously': 258, 'mailing': 267, 'minutes': 264, 'tool': 200, 'times': 979, 'edu': 21289, 'advance': 516, 'lcs': 232, 'umd': 297, 'lists': 175, 'whole': 761, 'example': 1040, 'dead': 531, 'account': 277, 'references': 246, 'posts': 273, 'paul': 761, 'christ': 567, 'term': 365, 't\\\\': 221, 'related': 428, 'st': 1111, 'advice': 343, 'programs': 663, 'house': 679, 'user': 644, 'cases': 433, 'freenet': 395, 'past': 477, 'west': 352, 'attempt': 277, 'carleton': 182, 'vote': 208, 'market': 366, 'day': 1475, 'mostly': 236, 'line': 1349, 'functions': 244, 'feet': 181, 'allow': 427, 'bj': 254, 'news': 1782, 'pressure': 209, 'woman': 255, 'lines': 11837, 'care': 662, 'judge': 262, 'sick': 184, 'far': 1208, 'academic': 181, 'suggestions': 255, 'waste': 183, 'sk': 217, 'kevin': 264, 'hp': 1088, 'cable': 331, 'regarding': 259, 'fix': 212, 'ready': 202, 'gatech': 285, 'silver': 190, 'fans': 234, 'cut': 413, 'di': 730, 'options': 245, 'ken': 290, 'comp': 537, 'answer': 782, 'moral': 433, 'days': 734, 'external': 204, 'certainly': 637, 'directory': 407, 'point': 1869, 'plan': 334, 'minnesota': 199, 'hockey': 662, 'argic': 266, 'greek': 360, 'font': 244, 'la': 492, 'earlier': 251, 'americans': 319, 'max': 4796, 'rd': 426, 'error': 454, 'ii': 531, 'job': 473, 'xlib': 183, 'license': 202, 'hit': 488, 'obvious': 315, 'building': 414, 'change': 796, 'dec': 351, 'qax': 231, 'sound': 545, 'int': 252, 'reality': 273, 'window': 1148, 'key': 1678, 'whether': 866, 'tek': 215, 'crypto': 263, 'oil': 308, 'companies': 300, 'appear': 251, 'similar': 598, 'hello': 232, 'receive': 205, 'electronics': 223, 'objective': 355, 'society': 508, 'ms': 717, 'special': 474, 'bbs': 398, 'page': 334, 'appropriate': 289, 'continue': 328, 'involved': 410, 'rich': 216, 'c': 8563, 'remember': 851, 'russian': 358, 'uwo': 185, 'price': 769, 'flame': 232, 'usc': 187, 'station': 359, 'pittsburgh': 527, 'uni': 342, 'free': 1145, 'host': 4996, 'sgi': 471, 'vice': 189, 'provided': 270, 'vancouver': 268}\n"
     ]
    }
   ],
   "source": [
    "#deleting the words having freq less than 175\n",
    "for i in low_freq_keys:\n",
    "    del copy_frequency1[i]\n",
    "print(copy_frequency1)"
   ]
  },
  {
   "cell_type": "code",
   "execution_count": 117,
   "metadata": {},
   "outputs": [],
   "source": [
    "vocabulary=list(copy_frequency1.keys())"
   ]
  },
  {
   "cell_type": "code",
   "execution_count": 134,
   "metadata": {},
   "outputs": [
    {
     "data": {
      "text/plain": [
       "(11314, 1980)"
      ]
     },
     "execution_count": 134,
     "metadata": {},
     "output_type": "execute_result"
    }
   ],
   "source": [
    "#makinng the x train dataset\n",
    "x_data=np.array([[0 for i in range(len(copy_frequency1))] for j in range(len(news_articles.data))])\n",
    "x_data.shape"
   ]
  },
  {
   "cell_type": "code",
   "execution_count": 135,
   "metadata": {
    "scrolled": true
   },
   "outputs": [
    {
     "name": "stdout",
     "output_type": "stream",
     "text": [
      "[[0 0 0 ... 0 0 0]\n",
      " [0 0 0 ... 0 0 0]\n",
      " [0 0 0 ... 0 0 0]\n",
      " ...\n",
      " [0 0 0 ... 0 0 0]\n",
      " [0 0 0 ... 0 0 0]\n",
      " [0 0 0 ... 0 0 0]]\n"
     ]
    }
   ],
   "source": [
    "for i in range(len(filtered_x)):\n",
    "    for j in range(len(vocabulary)):\n",
    "        if vocabulary[j] in filtered_x[i].split():\n",
    "            x_data[i,j]+=1\n",
    "print(x_data)        "
   ]
  },
  {
   "cell_type": "code",
   "execution_count": 143,
   "metadata": {},
   "outputs": [
    {
     "data": {
      "text/plain": [
       "(11314, 1980)"
      ]
     },
     "execution_count": 143,
     "metadata": {},
     "output_type": "execute_result"
    }
   ],
   "source": [
    "x_data.shape"
   ]
  },
  {
   "cell_type": "code",
   "execution_count": 154,
   "metadata": {},
   "outputs": [],
   "source": [
    "y_data=news_articles.target"
   ]
  },
  {
   "cell_type": "code",
   "execution_count": 158,
   "metadata": {},
   "outputs": [],
   "source": [
    "#performing train and test split on the data\n",
    "from sklearn.model_selection import train_test_split\n",
    "x_train,x_test,y_train,y_test=train_test_split(x_data,y_data,random_state=0)"
   ]
  },
  {
   "cell_type": "code",
   "execution_count": 159,
   "metadata": {},
   "outputs": [],
   "source": [
    "#applying multinomial Naive Bayes from Sklearn\n",
    "from sklearn.naive_bayes import MultinomialNB\n",
    "clf1=MultinomialNB()\n",
    "clf1.fit(x_train,y_train)\n",
    "y_pred1=clf1.predict(x_test)"
   ]
  },
  {
   "cell_type": "code",
   "execution_count": 160,
   "metadata": {},
   "outputs": [
    {
     "data": {
      "text/plain": [
       "0.807705903145988"
      ]
     },
     "execution_count": 160,
     "metadata": {},
     "output_type": "execute_result"
    }
   ],
   "source": [
    "clf1.score(x_test,y_test)"
   ]
  },
  {
   "cell_type": "code",
   "execution_count": 288,
   "metadata": {},
   "outputs": [],
   "source": [
    "#applying multinomial naive bayes from scratch\n",
    "import math as m\n",
    "def fit(x_train,y_train,vocabulary):\n",
    "    result={}\n",
    "    #top level keys will have the differtent values of the classes\n",
    "    class_values=set(y_train)\n",
    "    result[\"total_data\"]=len(y_train)\n",
    "    for current_class in class_values:\n",
    "        result[current_class]={}\n",
    "        num_words=x_train.shape[1]\n",
    "        #accessing rows with class equals to current class\n",
    "        current_class_rows=(y_train==current_class)\n",
    "        x_train_current=x_train[current_class_rows]\n",
    "        y_train_current=y_train[current_class_rows]\n",
    "        result[current_class][\"total_count\"]=0\n",
    "        for j in vocabulary:\n",
    "            result[current_class][j]=x_train_current[:,vocabulary.index(j)].sum()\n",
    "            result[current_class][\"total_count\"]+=result[current_class][j]\n",
    "    return result"
   ]
  },
  {
   "cell_type": "code",
   "execution_count": 292,
   "metadata": {},
   "outputs": [],
   "source": [
    "def probablity(dictionary,x,current_class):\n",
    "    output=np.log(dictionary[current_class][\"total_count\"])-np.log(dictionary[\"total_data\"])\n",
    "    num_words=len(dictionary[current_class].keys())-2\n",
    "    for i in vocabulary:\n",
    "        if x[vocabulary.index(i)]==0:\n",
    "            prob_wi_current_class=0\n",
    "        else:\n",
    "            prob_wi_current_class=(np.log(dictionary[current_class][i]+1))-(np.log(dictionary[current_class][\"total_count\"]+num_words))\n",
    "        output+=prob_wi_current_class\n",
    "    return output"
   ]
  },
  {
   "cell_type": "code",
   "execution_count": 293,
   "metadata": {},
   "outputs": [],
   "source": [
    "def predictsinglepoint(dictionary,x):\n",
    "    classes=dictionary.keys()\n",
    "    best_p = 0\n",
    "    best_class = 0\n",
    "    first = True\n",
    "    for current_class in classes:\n",
    "        if current_class == \"total_data\":\n",
    "            continue\n",
    "        p_current_class = probablity(dictionary,x,current_class)\n",
    "        if first or p_current_class > best_p :\n",
    "            best_p = p_current_class\n",
    "            best_class = current_class\n",
    "            first=False\n",
    "    return best_class"
   ]
  },
  {
   "cell_type": "code",
   "execution_count": 294,
   "metadata": {},
   "outputs": [],
   "source": [
    "def predict(dictionary,x_test):\n",
    "    y_pred=[]\n",
    "    for x in x_test:\n",
    "        x_class = predictsinglepoint(dictionary,x)\n",
    "        y_pred.append(x_class)\n",
    "    return y_pred"
   ]
  },
  {
   "cell_type": "code",
   "execution_count": 289,
   "metadata": {},
   "outputs": [],
   "source": [
    "dictionary=fit(x_train,y_train,vocabulary)"
   ]
  },
  {
   "cell_type": "code",
   "execution_count": 295,
   "metadata": {},
   "outputs": [],
   "source": [
    "y_pred2=predict(dictionary,x_test)"
   ]
  },
  {
   "cell_type": "code",
   "execution_count": 296,
   "metadata": {},
   "outputs": [
    {
     "name": "stdout",
     "output_type": "stream",
     "text": [
      "              precision    recall  f1-score   support\n",
      "\n",
      "           0       0.82      0.86      0.84       112\n",
      "           1       0.58      0.72      0.64       147\n",
      "           2       0.72      0.71      0.72       140\n",
      "           3       0.66      0.68      0.67       148\n",
      "           4       0.75      0.71      0.73       149\n",
      "           5       0.81      0.81      0.81       159\n",
      "           6       0.70      0.89      0.78       131\n",
      "           7       0.82      0.77      0.79       158\n",
      "           8       0.87      0.85      0.86       162\n",
      "           9       0.83      0.85      0.84       148\n",
      "          10       0.93      0.92      0.93       150\n",
      "          11       0.97      0.90      0.93       155\n",
      "          12       0.74      0.73      0.74       147\n",
      "          13       0.88      0.84      0.86       131\n",
      "          14       0.88      0.83      0.85       154\n",
      "          15       0.89      0.87      0.88       155\n",
      "          16       0.90      0.89      0.90       144\n",
      "          17       0.94      0.87      0.90       144\n",
      "          18       0.77      0.79      0.78       108\n",
      "          19       0.77      0.61      0.68        87\n",
      "\n",
      "   micro avg       0.81      0.81      0.81      2829\n",
      "   macro avg       0.81      0.80      0.81      2829\n",
      "weighted avg       0.81      0.81      0.81      2829\n",
      "\n",
      "[[ 96   0   0   0   0   0   0   1   3   0   0   0   0   0   0   3   0   1\n",
      "    3   5]\n",
      " [  0 106  11   4   4   8   4   1   0   1   0   1   3   1   2   0   0   0\n",
      "    0   1]\n",
      " [  0  11 100  16   3   6   2   0   0   0   0   0   2   0   0   0   0   0\n",
      "    0   0]\n",
      " [  0  10   7 100  13   3  10   0   0   1   0   0   4   0   0   0   0   0\n",
      "    0   0]\n",
      " [  0   7   6  17 106   0   5   2   0   1   0   0   5   0   0   0   0   0\n",
      "    0   0]\n",
      " [  1  14   8   1   1 129   1   0   0   0   0   0   1   2   1   0   0   0\n",
      "    0   0]\n",
      " [  1   1   0   1   2   2 117   2   1   0   0   0   1   1   1   0   0   1\n",
      "    0   0]\n",
      " [  0   2   2   2   3   0   6 121   6   1   0   0   9   0   2   0   4   0\n",
      "    0   0]\n",
      " [  0   2   0   1   1   1   6  11 137   0   0   0   1   0   1   0   0   0\n",
      "    1   0]\n",
      " [  0   2   1   0   0   0   6   1   1 126   8   0   0   1   2   0   0   0\n",
      "    0   0]\n",
      " [  0   1   0   0   0   0   0   1   1   9 138   0   0   0   0   0   0   0\n",
      "    0   0]\n",
      " [  0   3   0   0   0   3   1   0   0   1   0 139   2   0   1   0   1   0\n",
      "    3   1]\n",
      " [  0   9   2   8   6   0   3   4   2   1   2   1 107   1   1   0   0   0\n",
      "    0   0]\n",
      " [  0   5   0   0   0   4   1   0   3   0   0   0   2 110   3   1   1   0\n",
      "    1   0]\n",
      " [  0   6   0   0   0   3   1   0   1   4   0   0   4   4 128   2   0   0\n",
      "    1   0]\n",
      " [  3   5   0   0   0   1   1   0   0   2   0   0   1   2   0 135   0   1\n",
      "    1   3]\n",
      " [  1   0   1   1   0   0   0   2   2   1   0   1   0   0   0   0 128   0\n",
      "    6   1]\n",
      " [  0   0   1   1   2   0   1   0   1   1   0   0   1   2   0   1   1 125\n",
      "    6   1]\n",
      " [  4   0   0   0   0   0   3   2   0   2   0   0   0   0   3   0   3   2\n",
      "   85   4]\n",
      " [ 11   0   0   0   0   0   0   0   0   0   0   1   1   1   1   9   4   3\n",
      "    3  53]]\n"
     ]
    }
   ],
   "source": [
    "from sklearn.metrics import classification_report,confusion_matrix\n",
    "print(classification_report(y_test,y_pred2))\n",
    "print(confusion_matrix(y_test,y_pred2))"
   ]
  }
 ],
 "metadata": {
  "kernelspec": {
   "display_name": "Python 3",
   "language": "python",
   "name": "python3"
  },
  "language_info": {
   "codemirror_mode": {
    "name": "ipython",
    "version": 3
   },
   "file_extension": ".py",
   "mimetype": "text/x-python",
   "name": "python",
   "nbconvert_exporter": "python",
   "pygments_lexer": "ipython3",
   "version": "3.7.3"
  }
 },
 "nbformat": 4,
 "nbformat_minor": 2
}
